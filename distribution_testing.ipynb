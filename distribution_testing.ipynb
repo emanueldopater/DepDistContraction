{
 "cells": [
  {
   "cell_type": "code",
   "execution_count": 1,
   "metadata": {},
   "outputs": [],
   "source": [
    "import random\n",
    "import numpy as np"
   ]
  },
  {
   "cell_type": "code",
   "execution_count": 11,
   "metadata": {},
   "outputs": [
    {
     "data": {
      "text/plain": [
       "array([[0.71060711],\n",
       "       [0.26428532]])"
      ]
     },
     "execution_count": 11,
     "metadata": {},
     "output_type": "execute_result"
    }
   ],
   "source": [
    "np.random.normal(0.5, 0.01 * 34 ,(2,1))"
   ]
  },
  {
   "cell_type": "code",
   "execution_count": 13,
   "metadata": {},
   "outputs": [],
   "source": [
    "initial_embs = np.zeros((34,2))"
   ]
  },
  {
   "cell_type": "code",
   "execution_count": 18,
   "metadata": {},
   "outputs": [],
   "source": [
    "for i in range(34):\n",
    "    initial_embs[i] = np.random.normal(0.5, 0.01 * (i+1) ,(2,1)).reshape(2)"
   ]
  },
  {
   "cell_type": "code",
   "execution_count": 19,
   "metadata": {},
   "outputs": [
    {
     "data": {
      "text/plain": [
       "array([[0.50708735, 0.49555239],\n",
       "       [0.50549717, 0.52799617],\n",
       "       [0.5116326 , 0.47167052],\n",
       "       [0.51480436, 0.55724223],\n",
       "       [0.41354301, 0.54291433],\n",
       "       [0.56994803, 0.50276851],\n",
       "       [0.63646465, 0.49792786],\n",
       "       [0.3805529 , 0.50560889],\n",
       "       [0.4226415 , 0.37009696],\n",
       "       [0.47949252, 0.58225472],\n",
       "       [0.51983519, 0.70288574],\n",
       "       [0.39760465, 0.53863337],\n",
       "       [0.36949279, 0.44388378],\n",
       "       [0.50657029, 0.4905506 ],\n",
       "       [0.38695949, 0.44702954],\n",
       "       [0.38906281, 0.44788286],\n",
       "       [0.46767693, 0.3596406 ],\n",
       "       [0.28488834, 0.6605613 ],\n",
       "       [0.58584434, 0.45949313],\n",
       "       [0.3783035 , 0.55770292],\n",
       "       [0.66394176, 0.52569689],\n",
       "       [0.95753966, 0.72371004],\n",
       "       [0.75834118, 0.35358801],\n",
       "       [0.56424966, 0.01209053],\n",
       "       [0.48553948, 0.56509175],\n",
       "       [0.24169356, 0.65541755],\n",
       "       [0.99083279, 0.63683109],\n",
       "       [0.53260179, 0.29809556],\n",
       "       [0.70919802, 0.49269688],\n",
       "       [0.37208544, 0.4317766 ],\n",
       "       [0.68954044, 0.70651871],\n",
       "       [0.29481485, 0.53861241],\n",
       "       [0.63049793, 0.17095423],\n",
       "       [0.95514985, 0.40834495]])"
      ]
     },
     "execution_count": 19,
     "metadata": {},
     "output_type": "execute_result"
    }
   ],
   "source": [
    "initial_embs"
   ]
  }
 ],
 "metadata": {
  "kernelspec": {
   "display_name": "django_csgo_env",
   "language": "python",
   "name": "python3"
  },
  "language_info": {
   "codemirror_mode": {
    "name": "ipython",
    "version": 3
   },
   "file_extension": ".py",
   "mimetype": "text/x-python",
   "name": "python",
   "nbconvert_exporter": "python",
   "pygments_lexer": "ipython3",
   "version": "3.11.3"
  },
  "orig_nbformat": 4
 },
 "nbformat": 4,
 "nbformat_minor": 2
}
