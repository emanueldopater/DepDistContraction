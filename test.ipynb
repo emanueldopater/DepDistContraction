{
 "cells": [
  {
   "cell_type": "code",
   "execution_count": 2,
   "metadata": {},
   "outputs": [],
   "source": [
    "import plotly.graph_objs as go\n",
    "from plotly.subplots import make_subplots\n",
    "import random \n",
    "# After creating the 3D visualization using the modified function\n",
    "\n",
    "# Extract the 3D data\n",
    "x = [ random.random() for x in range(10)]  # X coordinates\n",
    "y = [ random.random() for x in range(10)]  # Y coordinates\n",
    "z = [ random.random() for x in range(10)]  # Z coordinates\n",
    "\n",
    "# Fill x, y, and z with your 3D data from the animation frames\n",
    "\n",
    "# Create a Plotly 3D scatter plot\n",
    "scatter = go.Scatter3d(x=x, y=y, z=z, mode='markers', marker=dict(size=5, color='blue'))\n",
    "layout = go.Layout(scene=dict(aspectmode=\"data\"))\n",
    "fig = make_subplots(rows=1, cols=1, specs=[[{'type': 'scatter3d'}]])\n",
    "fig.add_trace(scatter)\n",
    "\n",
    "# Export the 3D plot as an interactive HTML file\n",
    "fig.update_layout(scene=dict(aspectmode=\"data\"))\n",
    "fig.write_html('3d_network_plot.html')"
   ]
  }
 ],
 "metadata": {
  "kernelspec": {
   "display_name": "django_csgo_env",
   "language": "python",
   "name": "python3"
  },
  "language_info": {
   "codemirror_mode": {
    "name": "ipython",
    "version": 3
   },
   "file_extension": ".py",
   "mimetype": "text/x-python",
   "name": "python",
   "nbconvert_exporter": "python",
   "pygments_lexer": "ipython3",
   "version": "3.11.3"
  },
  "orig_nbformat": 4
 },
 "nbformat": 4,
 "nbformat_minor": 2
}
