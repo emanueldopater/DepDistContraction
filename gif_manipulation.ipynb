{
 "cells": [
  {
   "cell_type": "code",
   "execution_count": 3,
   "metadata": {},
   "outputs": [
    {
     "name": "stdout",
     "output_type": "stream",
     "text": [
      "The GIF 'animations/animation_new.gif' has 101 frames.\n"
     ]
    }
   ],
   "source": [
    "from PIL import Image\n",
    "\n",
    "def get_gif_frame_count(gif_path):\n",
    "    try:\n",
    "        with Image.open(gif_path) as im:\n",
    "            # Check if the image is an animated GIF\n",
    "            if 'duration' in im.info:\n",
    "                return im.n_frames\n",
    "            else:\n",
    "                return 1\n",
    "    except IOError:\n",
    "        print(\"Unable to open image file:\", gif_path)\n",
    "        return None\n",
    "\n",
    "if __name__ == \"__main__\":\n",
    "    gif_file = \"animations/animation_new.gif\"\n",
    "    frame_count = get_gif_frame_count(gif_file)\n",
    "    \n",
    "    if frame_count is not None:\n",
    "        print(f\"The GIF '{gif_file}' has {frame_count} frames.\")\n"
   ]
  },
  {
   "cell_type": "code",
   "execution_count": 4,
   "metadata": {},
   "outputs": [
    {
     "name": "stdout",
     "output_type": "stream",
     "text": [
      "Collecting ffmpeg-python\n",
      "  Downloading ffmpeg_python-0.2.0-py3-none-any.whl (25 kB)\n",
      "Collecting future (from ffmpeg-python)\n",
      "  Downloading future-0.18.3.tar.gz (840 kB)\n",
      "                                              0.0/840.9 kB ? eta -:--:--\n",
      "     ------------------                     399.4/840.9 kB 8.5 MB/s eta 0:00:01\n",
      "     ------------------------------------  839.7/840.9 kB 10.6 MB/s eta 0:00:01\n",
      "     -------------------------------------- 840.9/840.9 kB 7.6 MB/s eta 0:00:00\n",
      "  Installing build dependencies: started\n",
      "  Installing build dependencies: finished with status 'done'\n",
      "  Getting requirements to build wheel: started\n",
      "  Getting requirements to build wheel: finished with status 'done'\n",
      "  Preparing metadata (pyproject.toml): started\n",
      "  Preparing metadata (pyproject.toml): finished with status 'done'\n",
      "Building wheels for collected packages: future\n",
      "  Building wheel for future (pyproject.toml): started\n",
      "  Building wheel for future (pyproject.toml): finished with status 'done'\n",
      "  Created wheel for future: filename=future-0.18.3-py3-none-any.whl size=492053 sha256=8f5f6575f6199a490b990e960b07f21004be2f6c595601abcdfc643914641639\n",
      "  Stored in directory: c:\\users\\emanu\\appdata\\local\\pip\\cache\\wheels\\da\\19\\ca\\9d8c44cd311a955509d7e13da3f0bea42400c469ef825b580b\n",
      "Successfully built future\n",
      "Installing collected packages: future, ffmpeg-python\n",
      "Successfully installed ffmpeg-python-0.2.0 future-0.18.3\n"
     ]
    },
    {
     "name": "stderr",
     "output_type": "stream",
     "text": [
      "\n",
      "[notice] A new release of pip is available: 23.1.2 -> 23.2\n",
      "[notice] To update, run: python.exe -m pip install --upgrade pip\n"
     ]
    }
   ],
   "source": [
    "!pip install ffmpeg-python"
   ]
  },
  {
   "cell_type": "code",
   "execution_count": 1,
   "metadata": {},
   "outputs": [
    {
     "name": "stdout",
     "output_type": "stream",
     "text": [
      "Requirement already satisfied: ffmpeg-python in d:\\django_projekt\\django_csgo_env\\lib\\site-packages (0.2.0)\n",
      "Requirement already satisfied: future in d:\\django_projekt\\django_csgo_env\\lib\\site-packages (from ffmpeg-python) (0.18.3)\n"
     ]
    },
    {
     "name": "stderr",
     "output_type": "stream",
     "text": [
      "\n",
      "[notice] A new release of pip is available: 23.1.2 -> 23.2\n",
      "[notice] To update, run: python.exe -m pip install --upgrade pip\n"
     ]
    }
   ],
   "source": [
    "!pip install ffmpeg-python\n"
   ]
  }
 ],
 "metadata": {
  "kernelspec": {
   "display_name": "django_csgo_env",
   "language": "python",
   "name": "python3"
  },
  "language_info": {
   "codemirror_mode": {
    "name": "ipython",
    "version": 3
   },
   "file_extension": ".py",
   "mimetype": "text/x-python",
   "name": "python",
   "nbconvert_exporter": "python",
   "pygments_lexer": "ipython3",
   "version": "3.11.3"
  },
  "orig_nbformat": 4
 },
 "nbformat": 4,
 "nbformat_minor": 2
}
